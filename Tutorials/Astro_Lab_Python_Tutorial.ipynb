{
 "cells": [
  {
   "cell_type": "markdown",
   "metadata": {},
   "source": [
    "Welcome to the introductory python notebook! To execute the comands below, either hit the play button above in-browser, or use Shift+Enter. Try executing the print statement below:"
   ]
  },
  {
   "cell_type": "code",
   "execution_count": 1,
   "metadata": {},
   "outputs": [
    {
     "name": "stdout",
     "output_type": "stream",
     "text": [
      "Hello world!\n",
      "\n"
     ]
    }
   ],
   "source": [
    "print \"Hello world!\\n\""
   ]
  },
  {
   "cell_type": "markdown",
   "metadata": {},
   "source": [
    "Python is a high level programming language that is useful for astronomical data reduction.\n",
    "\n",
    "First thing's first -- when you use Python you must import all necessary packages. Since we're using python 2.7, a useful thing to do is import division from future versions of Python. Let's see what happens when we don't. What do you expect the following output to be? "
   ]
  },
  {
   "cell_type": "code",
   "execution_count": 2,
   "metadata": {},
   "outputs": [
    {
     "data": {
      "text/plain": [
       "0"
      ]
     },
     "execution_count": 2,
     "metadata": {},
     "output_type": "execute_result"
    }
   ],
   "source": [
    "2/3"
   ]
  },
  {
   "cell_type": "markdown",
   "metadata": {},
   "source": [
    "This is called integer division, and can be easily fixed by making one value a float or importing the following package:"
   ]
  },
  {
   "cell_type": "code",
   "execution_count": 3,
   "metadata": {},
   "outputs": [
    {
     "data": {
      "text/plain": [
       "0.6666666666666666"
      ]
     },
     "execution_count": 3,
     "metadata": {},
     "output_type": "execute_result"
    }
   ],
   "source": [
    "from __future__ import division\n",
    "2/3"
   ]
  },
  {
   "cell_type": "markdown",
   "metadata": {},
   "source": [
    "Success! Now, let's import some other packages and learn the basics of plotting and curve fitting:"
   ]
  },
  {
   "cell_type": "code",
   "execution_count": 4,
   "metadata": {},
   "outputs": [
    {
     "data": {
      "image/png": "[encoded data removed]",
      "text/plain": [
       "<matplotlib.figure.Figure at 0x7f5369b6a350>"
      ]
     },
     "metadata": {},
     "output_type": "display_data"
    }
   ],
   "source": [
    "from matplotlib import pyplot as plt\n",
    "import numpy as np\n",
    "import math\n",
    "import astropy\n",
    "from scipy.optimize import curve_fit\n",
    "\n",
    "# making \"data\", see numpy or math package dcumentation\n",
    "x = np.linspace(0,2*math.pi, 20)\n",
    "y = [math.sin(i) for i in x]\n",
    "\n",
    "\n",
    "#plotting \"data\", see matplotlib documentation\n",
    "plt.figure(1)\n",
    "plt.plot(x,y,marker = \"x\", linestyle = \"\", label = \"\\\"data\\\"\")\n",
    "plt.xlabel(\"X (rad)\")\n",
    "plt.ylabel(r\"$\\sin{x}$\", fontsize = 14)\n",
    "\n",
    "\n",
    "# this is how you define a function, with a name, parameters, and something to return\n",
    "def unknown_sine_function(x,a,b,c):\n",
    "    return a*np.sin(b*x) + c\n",
    "\n",
    "# say you don't know the parameters of your sine function, and you want to fit your curve:\n",
    "popt, pcov = curve_fit(unknown_sine_function, x, y)\n",
    "\n",
    "# compare our fitted function to our \"data\"\n",
    "plt.plot(x, unknown_sine_function(x,*popt), linestyle = \"--\", color = \"r\", label = \"curve fit\")\n",
    "plt.title(\"Descriptive Title\")\n",
    "plt.legend(loc = \"best\")\n",
    "plt.show()"
   ]
  },
  {
   "cell_type": "markdown",
   "metadata": {},
   "source": [
    "Alright, we can import, plot, and fit a curve to data. Now let's learn a method for simple linear regression: "
   ]
  },
  {
   "cell_type": "code",
   "execution_count": 5,
   "metadata": {},
   "outputs": [
    {
     "data": {
      "image/png": "[encoded data removed]",
      "text/plain": [
       "<matplotlib.figure.Figure at 0x7f5353a13390>"
      ]
     },
     "metadata": {},
     "output_type": "display_data"
    }
   ],
   "source": [
    "x = np.linspace(0,5, 10)\n",
    "noise = np.random.random(len(x))\n",
    "\n",
    "# linear\n",
    "def linear_fun(x, b, m):\n",
    "    return b + m * x \n",
    "\n",
    "y = linear_fun(x, -2, 0.5)\n",
    "# neeeearly linear\n",
    "x += noise\n",
    "\n",
    "plt.figure(2)\n",
    "plt.plot(x,y, marker = \"x\", linestyle = \"\", label = \"\\\"data\\\"\")\n",
    "\n",
    "# deg = 1 is what makes it linear, can use for higher order polynomial fits as well!\n",
    "linear_fit = np.polynomial.polynomial.polyfit(x,y, deg = 1)\n",
    "\n",
    "linear_regression = linear_fun(x,*linear_fit)\n",
    "\n",
    "plt.plot(x,linear_regression, linestyle = \"--\", label = \"linear fit\")\n",
    "plt.legend(loc=\"best\")\n",
    "plt.show()\n",
    "#plt.savefig(\"figure1.png\")"
   ]
  },
  {
   "cell_type": "markdown",
   "metadata": {},
   "source": [
    "Well, what if we want to use actual data? Let's look at one way to load in a file:"
   ]
  },
  {
   "cell_type": "code",
   "execution_count": 6,
   "metadata": {},
   "outputs": [
    {
     "data": {
      "text/plain": [
       "array([[  1. ,   1. ,   2. ],\n",
       "       [  1.5,   2. ,   4. ],\n",
       "       [  2. ,   3. ,   6. ],\n",
       "       [  2.5,   4. ,   8. ],\n",
       "       [  3. ,   5. ,  10. ]])"
      ]
     },
     "execution_count": 6,
     "metadata": {},
     "output_type": "execute_result"
    }
   ],
   "source": [
    "# loads the data in to a numpy array, skips the two header lines\n",
    "data = np.loadtxt(\"test_data.txt\", skiprows = 2)\n",
    "data"
   ]
  },
  {
   "cell_type": "markdown",
   "metadata": {},
   "source": [
    "Yay! We have data. This method works well for data aranged in to rows and columns, which can be manipulated like so:"
   ]
  },
  {
   "cell_type": "code",
   "execution_count": 7,
   "metadata": {},
   "outputs": [
    {
     "name": "stdout",
     "output_type": "stream",
     "text": [
      "x1 =  [ 1.5  2.   4. ]\n",
      "last time =  2.0\n"
     ]
    }
   ],
   "source": [
    "time = data[:][0]\n",
    "x1 = data[:][1]\n",
    "x2 = data[:][2]\n",
    "\n",
    "print \"x1 = \", x1\n",
    "\n",
    "last_time = time[-1]\n",
    "print \"last time = \", last_time"
   ]
  },
  {
   "cell_type": "markdown",
   "metadata": {},
   "source": [
    "Before we move on, a few words on arrays and array operations. Python arrays are sort of like matrices, with indexing begining at zero, as you saw above. You can also do negative indexing. However, the indexing is not inclusive on the final value:"
   ]
  },
  {
   "cell_type": "code",
   "execution_count": 8,
   "metadata": {},
   "outputs": [
    {
     "data": {
      "text/plain": [
       "array([ 1.5,  2. ])"
      ]
     },
     "execution_count": 8,
     "metadata": {},
     "output_type": "execute_result"
    }
   ],
   "source": [
    "x1[0:2]"
   ]
  },
  {
   "cell_type": "markdown",
   "metadata": {},
   "source": [
    "Instead of displaying the 0th, 1st, and 2nd index, only the first two are shown. Also, numpy is your friend and should be used for array manipulations."
   ]
  },
  {
   "cell_type": "code",
   "execution_count": 9,
   "metadata": {},
   "outputs": [
    {
     "name": "stdout",
     "output_type": "stream",
     "text": [
      "y = \n",
      "[[ 1.  1.  1.]\n",
      " [ 1.  1.  1.]\n",
      " [ 1.  1.  1.]]\n",
      "\n",
      "x =  [1 2 3]\n",
      "\n",
      "x*y = \n",
      "[[ 1.  2.  3.]\n",
      " [ 1.  2.  3.]\n",
      " [ 1.  2.  3.]]\n",
      "\n",
      "x \"dot\" y =  [ 6.  6.  6.]\n",
      "\n",
      "x squared =  [1 4 9]\n",
      "\n",
      "NOT x squared:  [3 0 1]\n",
      "\n",
      "python understands scientific notation: 10.0\n"
     ]
    }
   ],
   "source": [
    "# making a 3x3 array of float ones\n",
    "y = np.ones((3,3), dtype = np.float64)\n",
    "\n",
    "print \"y = \\n\", y\n",
    "\n",
    "# making a list an array\n",
    "x = np.array([1,2,3])\n",
    "\n",
    "# some operations\n",
    "print \"\\nx = \", x\n",
    "# this is NOT matrix multiplication\n",
    "print \"\\nx*y = \\n\", x * y \n",
    "# this is\n",
    "print \"\\nx \\\"dot\\\" y = \", np.dot(x,y)\n",
    "\n",
    "# this is how you make an exponent\n",
    "print \"\\nx squared = \", x ** 2\n",
    "# actually a bit-wise exclusive or operator in binary. Neat! But definitely not x to the power of two\n",
    "print \"\\nNOT x squared: \", x^2\n",
    "\n",
    "# scientific notation, for completeness\n",
    "print \"\\npython understands scientific notation:\", 1e1"
   ]
  },
  {
   "cell_type": "markdown",
   "metadata": {},
   "source": [
    "There are lots of pre-made packages in numpy like this that make reading in and manipulating data easy and you should check python documentation for more functions. If all else fails, you can always manually open, read, and manipulate your data."
   ]
  },
  {
   "cell_type": "code",
   "execution_count": 10,
   "metadata": {},
   "outputs": [
    {
     "name": "stdout",
     "output_type": "stream",
     "text": [
      "# This is a header line\n",
      "\n",
      "# Time    x_1    x_2\n",
      "\n",
      "1.0\t  1\t 2\n",
      "\n",
      "1.5\t  2\t 4\n",
      "\n",
      "2.0\t  3\t 6\n",
      "\n",
      "2.5\t  4\t 8\n",
      "\n",
      "3.0\t  5\t 10\n",
      "\n",
      "\n",
      "\n"
     ]
    }
   ],
   "source": [
    "f = open(\"test_data.txt\", 'r')\n",
    "\n",
    "lines = f.readlines()\n",
    "\n",
    "for line in lines:\n",
    "    print line\n",
    "    # maybe you store and manipulate data here\n",
    "\n",
    "# you open it, you close it\n",
    "f.close()"
   ]
  },
  {
   "cell_type": "markdown",
   "metadata": {},
   "source": [
    "Finally, fits files."
   ]
  },
  {
   "cell_type": "code",
   "execution_count": 13,
   "metadata": {
    "scrolled": true
   },
   "outputs": [
    {
     "name": "stdout",
     "output_type": "stream",
     "text": [
      "Filename: spec-4561-55614-0126.fits\n",
      "No.    Name      Ver    Type      Cards   Dimensions   Format\n",
      "  0  PRIMARY       1 PrimaryHDU     126   ()      \n",
      "  1  COADD         1 BinTableHDU     26   4633R x 8C   [E, E, E, J, J, E, E, E]   \n",
      "  2  SPALL         1 BinTableHDU    474   1R x 232C   [27A, 14A, 4A, E, E, J, J, E, J, E, E, E, K, K, K, K, K, B, B, J, I, 5E, 5E, J, J, J, J, 6A, 6A, 16A, D, D, 6A, 21A, E, E, E, J, E, 24A, 10J, J, 10E, E, E, E, E, E, E, J, E, E, E, J, 5E, E, E, 10E, 10E, 10E, 5E, 5E, 5E, 5E, 5E, J, J, E, E, E, E, E, E, 16A, 9A, 12A, E, E, E, E, E, E, E, E, J, E, E, J, J, 6A, 21A, E, 35E, K, 19A, 19A, 19A, B, B, B, I, 3A, B, I, I, I, I, J, E, J, J, E, E, E, E, E, E, E, E, 5E, 5E, 5E, 5E, 5E, 5E, 5E, 5E, 5E, 5E, 5E, 5E, 5E, 5E, 5E, 5E, 5E, 5E, 5E, 5E, 5E, 5E, 5E, 5E, 5E, 5E, 5E, 5E, 5E, 5E, 5E, 5E, 5E, 5E, 5E, 5J, 5J, 5J, 5E, 5J, 75E, 75E, 5E, 5E, 5E, 5J, 5E, D, D, D, D, D, D, D, D, D, 5E, 5E, 5E, 5E, 5E, 5E, 5E, 5E, 5E, 5E, 5E, 5E, 5E, 5E, 5E, 5E, 5E, 5E, 5E, 5E, 5E, 5E, 5E, 5E, 5E, 5E, 5E, 5E, 5E, 5E, 5E, 5E, 5E, 5E, 5E, 5E, 5E, 5E, 5E, 5E, 5E, 5E, 40E, 40E, 5J, 5J, 5E, 5E, 5D, J, J, J, J, J, J, J, E]   \n",
      "  3  SPZLINE       1 BinTableHDU     48   31R x 19C   [J, J, J, 13A, D, E, E, E, E, E, E, E, E, E, E, J, J, E, E]   \n",
      "  4  B1-00126627-00126626-00126625    1 BinTableHDU    178   2521R x 8C   [E, E, E, J, E, E, E, E]   \n",
      "  5  B1-00126848-00126847-00126846    1 BinTableHDU    179   2505R x 8C   [E, E, E, J, E, E, E, E]   \n",
      "  6  B1-00126849-00126847-00126846    1 BinTableHDU    179   2507R x 8C   [E, E, E, J, E, E, E, E]   \n",
      "  7  B1-00126850-00126847-00126846    1 BinTableHDU    179   2507R x 8C   [E, E, E, J, E, E, E, E]   \n",
      "  8  R1-00126627-00126626-00126625    1 BinTableHDU    178   3103R x 8C   [E, E, E, J, E, E, E, E]   \n",
      "  9  R1-00126848-00126847-00126846    1 BinTableHDU    179   3105R x 8C   [E, E, E, J, E, E, E, E]   \n",
      " 10  R1-00126849-00126847-00126846    1 BinTableHDU    179   3104R x 8C   [E, E, E, J, E, E, E, E]   \n",
      " 11  R1-00126850-00126847-00126846    1 BinTableHDU    179   3104R x 8C   [E, E, E, J, E, E, E, E]   \n",
      "\n",
      "data:\n",
      "[ (-10.045095, 3.5511587, 0.0083466955, 0, 1.3161798, 9.3717051, 1.6093502, 1169.5115)\n",
      " (-3.0957961, 3.5512798, 0.008277786, 0, 1.3156812, 9.7246399, 1.6425798, 1169.5135)\n",
      " (12.037122, 3.5514009, 0.0073161814, 0, 1.3151829, 9.8184061, 1.6776316, 1169.5154)\n",
      " ...,\n",
      " (1.0101339, 3.7985613, 0.11618709, 0, 0.81924403, 6.4049611, 0.41482714, 1166.1086)\n",
      " (-1.6786125, 3.7986395, 0.1098935, 0, 0.81916142, 5.5158291, 0.41932294, 1166.1031)\n",
      " (3.087034, 3.7987175, 0.073291585, 0, 0.8190788, 2.500356, 0.42459926, 1166.0977)]\n"
     ]
    }
   ],
   "source": [
    "from astropy.io import fits\n",
    "\n",
    "spectra = fits.open(\"spec-4561-55614-0126.fits\")\n",
    "spectra.info()\n",
    "# wooooo data!\n",
    "print \"\\ndata:\\n\", spectra[5].data\n",
    "# you open it, you close it\n",
    "spectra.close()"
   ]
  }
 ],
 "metadata": {
  "kernelspec": {
   "display_name": "Python 2",
   "language": "python",
   "name": "python2"
  },
  "language_info": {
   "codemirror_mode": {
    "name": "ipython",
    "version": 2
   },
   "file_extension": ".py",
   "mimetype": "text/x-python",
   "name": "python",
   "nbconvert_exporter": "python",
   "pygments_lexer": "ipython2",
   "version": "2.7.12"
  }
 },
 "nbformat": 4,
 "nbformat_minor": 2
}
